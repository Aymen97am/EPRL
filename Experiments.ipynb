{
 "cells": [
  {
   "cell_type": "code",
   "execution_count": 1,
   "id": "b3ada910",
   "metadata": {},
   "outputs": [],
   "source": [
    "from EPRL import EPRLAgent\n",
    "from BPI_UCRL import BPI_UCRLAgent\n",
    "from finite_deterministic_mdp import FiniteDMDP\n",
    "import rlberry.manager as manager\n",
    "from rlberry.manager import AgentManager, evaluate_agents\n",
    "import numpy as np\n",
    "import pandas as pd\n",
    "import matplotlib.pyplot as plt"
   ]
  },
  {
   "cell_type": "code",
   "execution_count": 2,
   "id": "e7aa982f",
   "metadata": {
    "collapsed": true
   },
   "outputs": [
    {
     "name": "stderr",
     "output_type": "stream",
     "text": [
      "[INFO] Running AgentManager fit() for maxD with n_fit = 10 and max_workers = None. \n"
     ]
    },
    {
     "name": "stdout",
     "output_type": "stream",
     "text": [
      "Ratio of complexities = 114.85492256476033\n",
      "Ratio of complexities = 198.43622762857208\n",
      "Ratio of complexities = 114.85492256476033\n",
      "Ratio of complexities = 198.43622762857208\n",
      "Ratio of complexities = 114.85492256476033\n",
      "Ratio of complexities = 198.43622762857208\n",
      "Ratio of complexities = 114.85492256476033\n",
      "Ratio of complexities = 198.43622762857208\n",
      "Ratio of complexities = 114.85492256476033\n",
      "Ratio of complexities = 198.43622762857208\n",
      "Ratio of complexities = 114.85492256476033\n",
      "Ratio of complexities = 198.43622762857208\n",
      "Ratio of complexities = 114.85492256476033\n",
      "Ratio of complexities = 198.43622762857208\n",
      "Ratio of complexities = 114.85492256476033\n",
      "Ratio of complexities = 198.43622762857208\n",
      "Ratio of complexities = 136.31056917623837\n",
      "Ratio of complexities = 121.71961721749337\n",
      "Ratio of complexities = 136.31056917623837\n",
      "Ratio of complexities = 121.71961721749337\n"
     ]
    },
    {
     "name": "stderr",
     "output_type": "stream",
     "text": [
      "[INFO] ... trained! \n"
     ]
    },
    {
     "name": "stdout",
     "output_type": "stream",
     "text": [
      "Ratio of complexities = 114.85492256476033\n",
      "Ratio of complexities = 198.43622762857208\n",
      "Ratio of complexities = 136.31056917623837\n",
      "Ratio of complexities = 121.71961721749337\n",
      "Ratio of complexities = 154.63215351420186\n",
      "Ratio of complexities = 157.12696592721832\n",
      "Ratio of complexities = 110.12015216786443\n",
      "Ratio of complexities = 156.8586735855848\n",
      "Ratio of complexities = 141.66969670036113\n",
      "Ratio of complexities = 125.06232208983381\n",
      "Ratio of complexities = 151.27187451422452\n"
     ]
    },
    {
     "name": "stderr",
     "output_type": "stream",
     "text": [
      "[INFO] Running AgentManager fit() for AmaxCov with n_fit = 10 and max_workers = None. \n"
     ]
    },
    {
     "name": "stdout",
     "output_type": "stream",
     "text": [
      "Ratio of complexities = 104.85794543246956\n",
      "Ratio of complexities = 110.0012786655816\n",
      "Ratio of complexities = 108.72357641087176\n",
      "Ratio of complexities = 106.29314037220288\n",
      "Ratio of complexities = 159.24657401782267\n",
      "Ratio of complexities = 129.4995572742485\n",
      "Ratio of complexities = 155.33833660816066\n",
      "Ratio of complexities = 142.04300375211972\n",
      "Ratio of complexities = 127.61658973647872\n",
      "Ratio of complexities = 144.87291643468222\n",
      "Ratio of complexities = 136.23844205249006\n",
      "Ratio of complexities = 144.87291643468222\n",
      "Ratio of complexities = 136.23844205249006\n",
      "Ratio of complexities = 144.87291643468222\n",
      "Ratio of complexities = 136.23844205249006\n",
      "Ratio of complexities = 144.87291643468222\n",
      "Ratio of complexities = 136.23844205249006\n",
      "Ratio of complexities = 144.87291643468222\n",
      "Ratio of complexities = 136.23844205249006\n",
      "Ratio of complexities = 144.87291643468222\n",
      "Ratio of complexities = 136.23844205249006\n",
      "Ratio of complexities = 144.87291643468222\n",
      "Ratio of complexities = 136.23844205249006\n",
      "Ratio of complexities = 144.87291643468222\n",
      "Ratio of complexities = 136.23844205249006\n",
      "Ratio of complexities = 114.08193559740256\n",
      "Ratio of complexities = 130.09919119861104\n",
      "Ratio of complexities = 114.08193559740256\n",
      "Ratio of complexities = 130.09919119861104\n"
     ]
    },
    {
     "name": "stderr",
     "output_type": "stream",
     "text": [
      "[INFO] ... trained! \n"
     ]
    },
    {
     "name": "stdout",
     "output_type": "stream",
     "text": [
      "Ratio of complexities = 144.87291643468222\n",
      "Ratio of complexities = 136.23844205249006\n",
      "Ratio of complexities = 114.08193559740256\n",
      "Ratio of complexities = 130.09919119861104\n",
      "Ratio of complexities = 109.22204330816152\n",
      "Ratio of complexities = 105.3729155229864\n",
      "Ratio of complexities = 144.51866796405838\n",
      "Ratio of complexities = 121.74489021693739\n",
      "Ratio of complexities = 174.79849262092648\n",
      "Ratio of complexities = 173.41299514990854\n",
      "Ratio of complexities = 123.95746267838207\n",
      "Ratio of complexities = 157.2640278011371\n",
      "Ratio of complexities = 143.59268850461365\n",
      "Ratio of complexities = 161.1766054340424\n",
      "Ratio of complexities = 196.75910730578437\n"
     ]
    },
    {
     "name": "stderr",
     "output_type": "stream",
     "text": [
      "[INFO] Running AgentManager fit() for BPI_UCRL with n_fit = 10 and max_workers = None. \n"
     ]
    },
    {
     "name": "stdout",
     "output_type": "stream",
     "text": [
      "Ratio of complexities = 149.80084442139145\n",
      "Ratio of complexities = 156.18395302603454\n",
      "Ratio of complexities = 120.64394027893677\n",
      "Ratio of complexities = 187.95362340198818\n",
      "Ratio of complexities = 165.51906722858445\n",
      "Ratio of complexities = 169.26037070594035\n",
      "Ratio of complexities = 193.39951594973635\n",
      "Ratio of complexities = 169.26037070594035\n",
      "Ratio of complexities = 193.39951594973635\n",
      "Ratio of complexities = 169.26037070594035\n",
      "Ratio of complexities = 193.39951594973635\n",
      "Ratio of complexities = 169.26037070594035\n",
      "Ratio of complexities = 193.39951594973635\n",
      "Ratio of complexities = 169.26037070594035\n",
      "Ratio of complexities = 193.39951594973635\n",
      "Ratio of complexities = 169.26037070594035\n",
      "Ratio of complexities = 193.39951594973635\n",
      "Ratio of complexities = 169.26037070594035\n",
      "Ratio of complexities = 193.39951594973635\n",
      "Ratio of complexities = 169.26037070594035\n",
      "Ratio of complexities = 193.39951594973635\n",
      "Ratio of complexities = 137.87558538486667\n",
      "Ratio of complexities = 117.58761483020714\n",
      "Ratio of complexities = 137.87558538486667\n",
      "Ratio of complexities = 117.58761483020714\n"
     ]
    },
    {
     "name": "stderr",
     "output_type": "stream",
     "text": [
      "[INFO] ... trained! \n"
     ]
    },
    {
     "name": "stdout",
     "output_type": "stream",
     "text": [
      "Ratio of complexities = 169.26037070594035\n",
      "Ratio of complexities = 193.39951594973635\n",
      "Ratio of complexities = 137.87558538486667\n",
      "Ratio of complexities = 117.58761483020714\n",
      "Ratio of complexities = 112.02036846728629\n",
      "Ratio of complexities = 156.01053629720434\n",
      "Ratio of complexities = 159.26815566634698\n",
      "Ratio of complexities = 194.55927672916425\n",
      "Ratio of complexities = 104.33229644470276\n",
      "Ratio of complexities = 168.18887905492124\n",
      "Ratio of complexities = 128.13318967829855\n",
      "Ratio of complexities = 197.85555826296155\n",
      "Ratio of complexities = 103.90970829260974\n",
      "Ratio of complexities = 107.20629427098663\n",
      "Ratio of complexities = 103.35598218058408\n",
      "Ratio of complexities = 175.26226332046585\n",
      "Ratio of complexities = 184.24601627636818\n",
      "Ratio of complexities = 167.31540388900845\n",
      "Ratio of complexities = 182.4915546781601\n",
      "Ratio of complexities = 143.73568984645522\n"
     ]
    }
   ],
   "source": [
    "#Experiment parameters\n",
    "n_sim = 10\n",
    "max_budget = 1e1\n",
    "#Environment parameters\n",
    "S = 2\n",
    "A = 2\n",
    "H = 3\n",
    "env_ctor = FiniteDMDP.RandomwithThreshold\n",
    "env_kwargs = dict(\n",
    "S = S,\n",
    "A = A,\n",
    "H = H,\n",
    "Rmax = 1,\n",
    "threshold = 100\n",
    ")\n",
    "\n",
    "\n",
    "#Algorithm meta-parameters (shared by all algorithms)\n",
    "epsilon = 0.1\n",
    "delta = 0.1\n",
    "\n",
    "\n",
    "#Agents parameters\n",
    "maxD_params = {\n",
    "    \"sampling_rule\": \"max_diameter\",\n",
    "    \"delta\": delta,\n",
    "    \"epsilon\": epsilon,\n",
    "    \"stage_dependent\": True,\n",
    "    \"period\" : None,\n",
    "}\n",
    "\n",
    "AmaxCov_params = {\n",
    "    \"sampling_rule\": \"adaptive_max_coverage\",\n",
    "    \"delta\": delta,\n",
    "    \"epsilon\": epsilon,\n",
    "    \"stage_dependent\": True,\n",
    "    \"period\" : None,\n",
    "}\n",
    "\n",
    "BPI_UCRL_params = {\n",
    "    \"delta\": delta,\n",
    "    \"epsilon\": epsilon,\n",
    "    \"stage_dependent\": True,\n",
    "    \"period\" : None,\n",
    "}\n",
    "\n",
    "# Create AgentManager to fit n_sim agents using multiple jobs\n",
    "maxD = AgentManager(\n",
    "    EPRLAgent,\n",
    "    train_env = (env_ctor, env_kwargs),\n",
    "    fit_budget=max_budget,\n",
    "    init_kwargs=maxD_params,\n",
    "    n_fit= n_sim,\n",
    "    agent_name = \"maxD\",\n",
    "    parallelization=\"process\",\n",
    "    mp_context=\"fork\",\n",
    "    output_dir=\"./results\",\n",
    ")\n",
    "maxD.fit()\n",
    "\n",
    "AmaxCov = AgentManager(\n",
    "    EPRLAgent,\n",
    "    (env_ctor, env_kwargs),\n",
    "    fit_budget=max_budget,\n",
    "    init_kwargs=AmaxCov_params,\n",
    "    n_fit=n_sim,\n",
    "    agent_name = \"AmaxCov\",\n",
    "    parallelization=\"process\",\n",
    "    mp_context=\"fork\",\n",
    "    output_dir=\"./results\",\n",
    ")\n",
    "AmaxCov.fit()\n",
    "\n",
    "BPI_UCRL = AgentManager(\n",
    "    BPI_UCRLAgent,\n",
    "    train_env = (env_ctor, env_kwargs),\n",
    "    fit_budget=max_budget,\n",
    "    init_kwargs=BPI_UCRL_params,\n",
    "    n_fit= n_sim,\n",
    "    agent_name = \"BPI_UCRL\",\n",
    "    parallelization=\"process\",\n",
    "    mp_context=\"fork\",\n",
    "    output_dir=\"./results\",\n",
    ")\n",
    "BPI_UCRL.fit()\n"
   ]
  },
  {
   "cell_type": "code",
   "execution_count": 4,
   "id": "dd9089c1",
   "metadata": {},
   "outputs": [],
   "source": [
    "#help(maxD.get_agent_instances()[0].writer)"
   ]
  },
  {
   "cell_type": "code",
   "execution_count": 28,
   "id": "91a96b72",
   "metadata": {},
   "outputs": [
    {
     "data": {
      "text/plain": [
       "['S2_A2_H3_Delta0.1069', '']"
      ]
     },
     "execution_count": 28,
     "metadata": {},
     "output_type": "execute_result"
    }
   ],
   "source": [
    "x = \"S2_A2_H3_Delta0.1069.pkl\"\n",
    "x.split(\".pkl\")"
   ]
  },
  {
   "cell_type": "code",
   "execution_count": 4,
   "id": "10fe9dba",
   "metadata": {},
   "outputs": [],
   "source": [
    "#Put all agents results in a unified dataframe\n",
    "def process_results(agents, tag=\"max_diameter\"):\n",
    "    global_df = pd.DataFrame()\n",
    "    for agent in agents:\n",
    "        df = manager.read_writer_data(agent, tag=tag)\n",
    "        df = df.rename(columns = {\"global_step\" : \"episode\"})\n",
    "        for col in [\"value\", \"episode\", \"n_simu\"]:\n",
    "            df[col] = pd.to_numeric(df[col])\n",
    "        global_df = pd.concat([global_df, df])\n",
    "    global_df[\"name\"] = global_df[\"name\"].astype(str)\n",
    "    return global_df\n",
    "def plot(agents, names, variable=\"tau\"):\n",
    "    if variable == \"tau\" or variable == \"max_diameter\":\n",
    "        df = process_results(agents, tag= \"max_diameter\")\n",
    "        df1 = process_results(agents, tag= \"max_Qstar_diameter\")\n",
    "    elif variable == \"avg_actions\":\n",
    "        df = process_results(agents, tag= \"avg_active_actions\") \n",
    "\n",
    "    n_sim = df[\"n_simu\"].max()+1\n",
    "    if variable == \"tau\":\n",
    "        data = {}\n",
    "        for agent in agents:\n",
    "            name = names[str(agent)]\n",
    "            Taus = []\n",
    "            for sim in range(n_sim):\n",
    "                tau = df[(df[\"name\"] == name) & (df[\"n_simu\"] == sim)][\"episode\"].max()\n",
    "                Taus.append(tau)\n",
    "            data[name] = Taus \n",
    "        fig, ax = plt.subplots()\n",
    "        ax.set_title('Stopping time')\n",
    "        ax.boxplot(data.values(), labels = data.keys(), whis = (1, 99))\n",
    "        plt.show()\n",
    "    elif variable == \"max_diameter\":\n",
    "        data = {}\n",
    "        data1 = {}\n",
    "        for agent in agents:\n",
    "            name = names[str(agent)]\n",
    "            Diams = []\n",
    "            QstarDiams = []\n",
    "            minL = np.inf\n",
    "            for sim in range(n_sim):\n",
    "                D = df[(df[\"name\"] == name) & (df[\"n_simu\"] == sim)][\"value\"]\n",
    "                QstarD = df1[(df1[\"name\"] == name) & (df1[\"n_simu\"] == sim)][\"value\"]\n",
    "                Diams.append(D)\n",
    "                QstarDiams.append(QstarD)\n",
    "                if len(D) < minL:\n",
    "                    minL = len(D)\n",
    "            for sim in range(n_sim):\n",
    "                Diams[sim] = Diams[sim][:minL]\n",
    "                QstarDiams[sim] = QstarDiams[sim][:minL]\n",
    "            data[name] = np.mean(np.array(Diams), axis = 0) \n",
    "            data1[name] = np.mean(np.array(QstarDiams), axis = 0)\n",
    "        Nagents = len(agents)\n",
    "        fig, ax = plt.subplots(1,Nagents, figsize = (20,10))\n",
    "        #ax.set_title('Diameters')\n",
    "        for i, agent in enumerate(agents):\n",
    "            name = names[str(agent)]\n",
    "            minL = len(data[name])\n",
    "            ax[i].set_title(name)\n",
    "            ax[i].plot(np.arange(0,minL),data[name], label = \"max_diameter\")\n",
    "            ax[i].plot(np.arange(0,minL),data1[name], label = \"Qstar_diameter\")\n",
    "        plt.legend()\n",
    "        plt.show()\n",
    "            "
   ]
  },
  {
   "cell_type": "code",
   "execution_count": 27,
   "id": "5a779bbd",
   "metadata": {},
   "outputs": [
    {
     "name": "stderr",
     "output_type": "stream",
     "text": [
      "[INFO] [read_writer_data]: loading data for maxD \n",
      "[INFO] [read_writer_data]: loading data for AmaxCov \n",
      "[INFO] [read_writer_data]: loading data for BPI_UCRL \n",
      "[INFO] [read_writer_data]: loading data for maxD \n",
      "[INFO] [read_writer_data]: loading data for AmaxCov \n",
      "[INFO] [read_writer_data]: loading data for BPI_UCRL \n"
     ]
    }
   ],
   "source": [
    "agents = [maxD, AmaxCov, BPI_UCRL]\n",
    "names = {str(maxD) : \"maxD\", str(AmaxCov) : \"AmaxCov\", str(BPI_UCRL) : \"BPI_UCRL\"}\n",
    "df = process_results(agents, tag= \"max_diameter\")\n",
    "df1 = process_results(agents, tag= \"Qstar_diameter\")"
   ]
  },
  {
   "cell_type": "code",
   "execution_count": 30,
   "id": "fbb6259a",
   "metadata": {},
   "outputs": [],
   "source": [
    "df[\"Qstar_diameter\"] = df1[\"value\"]"
   ]
  },
  {
   "cell_type": "code",
   "execution_count": 37,
   "id": "1f4fa753",
   "metadata": {},
   "outputs": [
    {
     "data": {
      "text/plain": [
       "'0x7f2d17f46b20>'"
      ]
     },
     "execution_count": 37,
     "metadata": {},
     "output_type": "execute_result"
    }
   ],
   "source": [
    "str(BPI_UCRL).split(\"at \")[1]"
   ]
  },
  {
   "cell_type": "code",
   "execution_count": 38,
   "id": "051d0586",
   "metadata": {},
   "outputs": [
    {
     "data": {
      "text/plain": [
       "'0x7f2d17f458b0>'"
      ]
     },
     "execution_count": 38,
     "metadata": {},
     "output_type": "execute_result"
    }
   ],
   "source": [
    "str(maxD).split(\"at \")[1]"
   ]
  },
  {
   "cell_type": "code",
   "execution_count": 33,
   "id": "9ff30c5f",
   "metadata": {},
   "outputs": [
    {
     "data": {
      "text/html": [
       "<div>\n",
       "<style scoped>\n",
       "    .dataframe tbody tr th:only-of-type {\n",
       "        vertical-align: middle;\n",
       "    }\n",
       "\n",
       "    .dataframe tbody tr th {\n",
       "        vertical-align: top;\n",
       "    }\n",
       "\n",
       "    .dataframe thead th {\n",
       "        text-align: right;\n",
       "    }\n",
       "</style>\n",
       "<table border=\"1\" class=\"dataframe\">\n",
       "  <thead>\n",
       "    <tr style=\"text-align: right;\">\n",
       "      <th></th>\n",
       "      <th>name</th>\n",
       "      <th>tag</th>\n",
       "      <th>value</th>\n",
       "      <th>episode</th>\n",
       "      <th>n_simu</th>\n",
       "      <th>Qstar_diameter</th>\n",
       "      <th>MDP</th>\n",
       "    </tr>\n",
       "  </thead>\n",
       "  <tbody>\n",
       "    <tr>\n",
       "      <th>0</th>\n",
       "      <td>maxD</td>\n",
       "      <td>max_diameter</td>\n",
       "      <td>6.000000</td>\n",
       "      <td>0</td>\n",
       "      <td>0</td>\n",
       "      <td>6.000000</td>\n",
       "      <td>ztek</td>\n",
       "    </tr>\n",
       "    <tr>\n",
       "      <th>1</th>\n",
       "      <td>maxD</td>\n",
       "      <td>max_diameter</td>\n",
       "      <td>6.000000</td>\n",
       "      <td>1</td>\n",
       "      <td>0</td>\n",
       "      <td>6.000000</td>\n",
       "      <td>ztek</td>\n",
       "    </tr>\n",
       "    <tr>\n",
       "      <th>2</th>\n",
       "      <td>maxD</td>\n",
       "      <td>max_diameter</td>\n",
       "      <td>6.000000</td>\n",
       "      <td>2</td>\n",
       "      <td>0</td>\n",
       "      <td>5.844234</td>\n",
       "      <td>ztek</td>\n",
       "    </tr>\n",
       "    <tr>\n",
       "      <th>3</th>\n",
       "      <td>maxD</td>\n",
       "      <td>max_diameter</td>\n",
       "      <td>5.688467</td>\n",
       "      <td>3</td>\n",
       "      <td>0</td>\n",
       "      <td>5.688467</td>\n",
       "      <td>ztek</td>\n",
       "    </tr>\n",
       "    <tr>\n",
       "      <th>4</th>\n",
       "      <td>maxD</td>\n",
       "      <td>max_diameter</td>\n",
       "      <td>5.688467</td>\n",
       "      <td>4</td>\n",
       "      <td>0</td>\n",
       "      <td>5.193798</td>\n",
       "      <td>ztek</td>\n",
       "    </tr>\n",
       "    <tr>\n",
       "      <th>...</th>\n",
       "      <td>...</td>\n",
       "      <td>...</td>\n",
       "      <td>...</td>\n",
       "      <td>...</td>\n",
       "      <td>...</td>\n",
       "      <td>...</td>\n",
       "      <td>...</td>\n",
       "    </tr>\n",
       "    <tr>\n",
       "      <th>95</th>\n",
       "      <td>BPI_UCRL</td>\n",
       "      <td>max_diameter</td>\n",
       "      <td>5.412434</td>\n",
       "      <td>5</td>\n",
       "      <td>9</td>\n",
       "      <td>4.811009</td>\n",
       "      <td>ztek</td>\n",
       "    </tr>\n",
       "    <tr>\n",
       "      <th>96</th>\n",
       "      <td>BPI_UCRL</td>\n",
       "      <td>max_diameter</td>\n",
       "      <td>5.412434</td>\n",
       "      <td>6</td>\n",
       "      <td>9</td>\n",
       "      <td>4.379509</td>\n",
       "      <td>ztek</td>\n",
       "    </tr>\n",
       "    <tr>\n",
       "      <th>97</th>\n",
       "      <td>BPI_UCRL</td>\n",
       "      <td>max_diameter</td>\n",
       "      <td>5.412434</td>\n",
       "      <td>7</td>\n",
       "      <td>9</td>\n",
       "      <td>4.147854</td>\n",
       "      <td>ztek</td>\n",
       "    </tr>\n",
       "    <tr>\n",
       "      <th>98</th>\n",
       "      <td>BPI_UCRL</td>\n",
       "      <td>max_diameter</td>\n",
       "      <td>5.412434</td>\n",
       "      <td>8</td>\n",
       "      <td>9</td>\n",
       "      <td>3.877159</td>\n",
       "      <td>ztek</td>\n",
       "    </tr>\n",
       "    <tr>\n",
       "      <th>99</th>\n",
       "      <td>BPI_UCRL</td>\n",
       "      <td>max_diameter</td>\n",
       "      <td>5.412434</td>\n",
       "      <td>9</td>\n",
       "      <td>9</td>\n",
       "      <td>3.783248</td>\n",
       "      <td>ztek</td>\n",
       "    </tr>\n",
       "  </tbody>\n",
       "</table>\n",
       "<p>300 rows × 7 columns</p>\n",
       "</div>"
      ],
      "text/plain": [
       "        name           tag     value  episode  n_simu  Qstar_diameter   MDP\n",
       "0       maxD  max_diameter  6.000000        0       0        6.000000  ztek\n",
       "1       maxD  max_diameter  6.000000        1       0        6.000000  ztek\n",
       "2       maxD  max_diameter  6.000000        2       0        5.844234  ztek\n",
       "3       maxD  max_diameter  5.688467        3       0        5.688467  ztek\n",
       "4       maxD  max_diameter  5.688467        4       0        5.193798  ztek\n",
       "..       ...           ...       ...      ...     ...             ...   ...\n",
       "95  BPI_UCRL  max_diameter  5.412434        5       9        4.811009  ztek\n",
       "96  BPI_UCRL  max_diameter  5.412434        6       9        4.379509  ztek\n",
       "97  BPI_UCRL  max_diameter  5.412434        7       9        4.147854  ztek\n",
       "98  BPI_UCRL  max_diameter  5.412434        8       9        3.877159  ztek\n",
       "99  BPI_UCRL  max_diameter  5.412434        9       9        3.783248  ztek\n",
       "\n",
       "[300 rows x 7 columns]"
      ]
     },
     "execution_count": 33,
     "metadata": {},
     "output_type": "execute_result"
    }
   ],
   "source": [
    "df"
   ]
  },
  {
   "cell_type": "code",
   "execution_count": 31,
   "id": "4d5c6cab",
   "metadata": {},
   "outputs": [
    {
     "data": {
      "text/html": [
       "<div>\n",
       "<style scoped>\n",
       "    .dataframe tbody tr th:only-of-type {\n",
       "        vertical-align: middle;\n",
       "    }\n",
       "\n",
       "    .dataframe tbody tr th {\n",
       "        vertical-align: top;\n",
       "    }\n",
       "\n",
       "    .dataframe thead th {\n",
       "        text-align: right;\n",
       "    }\n",
       "</style>\n",
       "<table border=\"1\" class=\"dataframe\">\n",
       "  <thead>\n",
       "    <tr style=\"text-align: right;\">\n",
       "      <th></th>\n",
       "      <th>name</th>\n",
       "      <th>tag</th>\n",
       "      <th>value</th>\n",
       "      <th>episode</th>\n",
       "      <th>n_simu</th>\n",
       "      <th>Qstar_diameter</th>\n",
       "    </tr>\n",
       "  </thead>\n",
       "  <tbody>\n",
       "    <tr>\n",
       "      <th>20</th>\n",
       "      <td>BPI_UCRL</td>\n",
       "      <td>max_diameter</td>\n",
       "      <td>6.000000</td>\n",
       "      <td>0</td>\n",
       "      <td>2</td>\n",
       "      <td>6.000000</td>\n",
       "    </tr>\n",
       "    <tr>\n",
       "      <th>21</th>\n",
       "      <td>BPI_UCRL</td>\n",
       "      <td>max_diameter</td>\n",
       "      <td>6.000000</td>\n",
       "      <td>1</td>\n",
       "      <td>2</td>\n",
       "      <td>6.000000</td>\n",
       "    </tr>\n",
       "    <tr>\n",
       "      <th>22</th>\n",
       "      <td>BPI_UCRL</td>\n",
       "      <td>max_diameter</td>\n",
       "      <td>6.000000</td>\n",
       "      <td>2</td>\n",
       "      <td>2</td>\n",
       "      <td>5.844234</td>\n",
       "    </tr>\n",
       "    <tr>\n",
       "      <th>23</th>\n",
       "      <td>BPI_UCRL</td>\n",
       "      <td>max_diameter</td>\n",
       "      <td>5.688467</td>\n",
       "      <td>3</td>\n",
       "      <td>2</td>\n",
       "      <td>5.688467</td>\n",
       "    </tr>\n",
       "    <tr>\n",
       "      <th>24</th>\n",
       "      <td>BPI_UCRL</td>\n",
       "      <td>max_diameter</td>\n",
       "      <td>5.688467</td>\n",
       "      <td>4</td>\n",
       "      <td>2</td>\n",
       "      <td>5.412434</td>\n",
       "    </tr>\n",
       "    <tr>\n",
       "      <th>25</th>\n",
       "      <td>BPI_UCRL</td>\n",
       "      <td>max_diameter</td>\n",
       "      <td>5.412434</td>\n",
       "      <td>5</td>\n",
       "      <td>2</td>\n",
       "      <td>4.811009</td>\n",
       "    </tr>\n",
       "    <tr>\n",
       "      <th>26</th>\n",
       "      <td>BPI_UCRL</td>\n",
       "      <td>max_diameter</td>\n",
       "      <td>5.412434</td>\n",
       "      <td>6</td>\n",
       "      <td>2</td>\n",
       "      <td>4.255332</td>\n",
       "    </tr>\n",
       "    <tr>\n",
       "      <th>27</th>\n",
       "      <td>BPI_UCRL</td>\n",
       "      <td>max_diameter</td>\n",
       "      <td>5.136401</td>\n",
       "      <td>7</td>\n",
       "      <td>2</td>\n",
       "      <td>3.958057</td>\n",
       "    </tr>\n",
       "    <tr>\n",
       "      <th>28</th>\n",
       "      <td>BPI_UCRL</td>\n",
       "      <td>max_diameter</td>\n",
       "      <td>5.136401</td>\n",
       "      <td>8</td>\n",
       "      <td>2</td>\n",
       "      <td>3.807697</td>\n",
       "    </tr>\n",
       "    <tr>\n",
       "      <th>29</th>\n",
       "      <td>BPI_UCRL</td>\n",
       "      <td>max_diameter</td>\n",
       "      <td>4.811009</td>\n",
       "      <td>9</td>\n",
       "      <td>2</td>\n",
       "      <td>4.129212</td>\n",
       "    </tr>\n",
       "  </tbody>\n",
       "</table>\n",
       "</div>"
      ],
      "text/plain": [
       "        name           tag     value  episode  n_simu  Qstar_diameter\n",
       "20  BPI_UCRL  max_diameter  6.000000        0       2        6.000000\n",
       "21  BPI_UCRL  max_diameter  6.000000        1       2        6.000000\n",
       "22  BPI_UCRL  max_diameter  6.000000        2       2        5.844234\n",
       "23  BPI_UCRL  max_diameter  5.688467        3       2        5.688467\n",
       "24  BPI_UCRL  max_diameter  5.688467        4       2        5.412434\n",
       "25  BPI_UCRL  max_diameter  5.412434        5       2        4.811009\n",
       "26  BPI_UCRL  max_diameter  5.412434        6       2        4.255332\n",
       "27  BPI_UCRL  max_diameter  5.136401        7       2        3.958057\n",
       "28  BPI_UCRL  max_diameter  5.136401        8       2        3.807697\n",
       "29  BPI_UCRL  max_diameter  4.811009        9       2        4.129212"
      ]
     },
     "execution_count": 31,
     "metadata": {},
     "output_type": "execute_result"
    }
   ],
   "source": [
    "df[(df[\"name\"]==\"BPI_UCRL\") & (df[\"n_simu\"]==2)]"
   ]
  },
  {
   "cell_type": "code",
   "execution_count": null,
   "id": "30ab0937",
   "metadata": {},
   "outputs": [],
   "source": [
    "plot(agents, names, variable =\"tau\")"
   ]
  },
  {
   "cell_type": "code",
   "execution_count": 8,
   "id": "ba1283d3",
   "metadata": {},
   "outputs": [
    {
     "name": "stderr",
     "output_type": "stream",
     "text": [
      "[INFO] [read_writer_data]: loading data for maxD \n",
      "[INFO] [read_writer_data]: loading data for AmaxCov \n",
      "[INFO] [read_writer_data]: loading data for BPI_UCRL \n",
      "[INFO] [read_writer_data]: loading data for maxD \n",
      "[INFO] [read_writer_data]: loading data for AmaxCov \n",
      "[INFO] [read_writer_data]: loading data for BPI_UCRL \n"
     ]
    },
    {
     "ename": "ValueError",
     "evalue": "x and y must have same first dimension, but have shapes (10,) and (0,)",
     "output_type": "error",
     "traceback": [
      "\u001b[0;31m---------------------------------------------------------------------------\u001b[0m",
      "\u001b[0;31mValueError\u001b[0m                                Traceback (most recent call last)",
      "\u001b[0;32m/tmp/ipykernel_13779/1591387919.py\u001b[0m in \u001b[0;36m<module>\u001b[0;34m\u001b[0m\n\u001b[0;32m----> 1\u001b[0;31m \u001b[0mplot\u001b[0m\u001b[0;34m(\u001b[0m\u001b[0magents\u001b[0m\u001b[0;34m,\u001b[0m \u001b[0mnames\u001b[0m\u001b[0;34m,\u001b[0m \u001b[0mvariable\u001b[0m \u001b[0;34m=\u001b[0m\u001b[0;34m\"max_diameter\"\u001b[0m\u001b[0;34m)\u001b[0m\u001b[0;34m\u001b[0m\u001b[0;34m\u001b[0m\u001b[0m\n\u001b[0m",
      "\u001b[0;32m/tmp/ipykernel_13779/3765331377.py\u001b[0m in \u001b[0;36mplot\u001b[0;34m(agents, names, variable)\u001b[0m\n\u001b[1;32m     59\u001b[0m             \u001b[0max\u001b[0m\u001b[0;34m[\u001b[0m\u001b[0mi\u001b[0m\u001b[0;34m]\u001b[0m\u001b[0;34m.\u001b[0m\u001b[0mset_title\u001b[0m\u001b[0;34m(\u001b[0m\u001b[0mname\u001b[0m\u001b[0;34m)\u001b[0m\u001b[0;34m\u001b[0m\u001b[0;34m\u001b[0m\u001b[0m\n\u001b[1;32m     60\u001b[0m             \u001b[0max\u001b[0m\u001b[0;34m[\u001b[0m\u001b[0mi\u001b[0m\u001b[0;34m]\u001b[0m\u001b[0;34m.\u001b[0m\u001b[0mplot\u001b[0m\u001b[0;34m(\u001b[0m\u001b[0mnp\u001b[0m\u001b[0;34m.\u001b[0m\u001b[0marange\u001b[0m\u001b[0;34m(\u001b[0m\u001b[0;36m0\u001b[0m\u001b[0;34m,\u001b[0m\u001b[0mminL\u001b[0m\u001b[0;34m)\u001b[0m\u001b[0;34m,\u001b[0m\u001b[0mdata\u001b[0m\u001b[0;34m[\u001b[0m\u001b[0mname\u001b[0m\u001b[0;34m]\u001b[0m\u001b[0;34m,\u001b[0m \u001b[0mlabel\u001b[0m \u001b[0;34m=\u001b[0m \u001b[0;34m\"max_diameter\"\u001b[0m\u001b[0;34m)\u001b[0m\u001b[0;34m\u001b[0m\u001b[0;34m\u001b[0m\u001b[0m\n\u001b[0;32m---> 61\u001b[0;31m             \u001b[0max\u001b[0m\u001b[0;34m[\u001b[0m\u001b[0mi\u001b[0m\u001b[0;34m]\u001b[0m\u001b[0;34m.\u001b[0m\u001b[0mplot\u001b[0m\u001b[0;34m(\u001b[0m\u001b[0mnp\u001b[0m\u001b[0;34m.\u001b[0m\u001b[0marange\u001b[0m\u001b[0;34m(\u001b[0m\u001b[0;36m0\u001b[0m\u001b[0;34m,\u001b[0m\u001b[0mminL\u001b[0m\u001b[0;34m)\u001b[0m\u001b[0;34m,\u001b[0m\u001b[0mdata1\u001b[0m\u001b[0;34m[\u001b[0m\u001b[0mname\u001b[0m\u001b[0;34m]\u001b[0m\u001b[0;34m,\u001b[0m \u001b[0mlabel\u001b[0m \u001b[0;34m=\u001b[0m \u001b[0;34m\"Qstar_diameter\"\u001b[0m\u001b[0;34m)\u001b[0m\u001b[0;34m\u001b[0m\u001b[0;34m\u001b[0m\u001b[0m\n\u001b[0m\u001b[1;32m     62\u001b[0m         \u001b[0mplt\u001b[0m\u001b[0;34m.\u001b[0m\u001b[0mlegend\u001b[0m\u001b[0;34m(\u001b[0m\u001b[0;34m)\u001b[0m\u001b[0;34m\u001b[0m\u001b[0;34m\u001b[0m\u001b[0m\n\u001b[1;32m     63\u001b[0m         \u001b[0mplt\u001b[0m\u001b[0;34m.\u001b[0m\u001b[0mshow\u001b[0m\u001b[0;34m(\u001b[0m\u001b[0;34m)\u001b[0m\u001b[0;34m\u001b[0m\u001b[0;34m\u001b[0m\u001b[0m\n",
      "\u001b[0;32m~/miniconda3/envs/rlberry/lib/python3.8/site-packages/matplotlib/axes/_axes.py\u001b[0m in \u001b[0;36mplot\u001b[0;34m(self, scalex, scaley, data, *args, **kwargs)\u001b[0m\n\u001b[1;32m   1630\u001b[0m         \"\"\"\n\u001b[1;32m   1631\u001b[0m         \u001b[0mkwargs\u001b[0m \u001b[0;34m=\u001b[0m \u001b[0mcbook\u001b[0m\u001b[0;34m.\u001b[0m\u001b[0mnormalize_kwargs\u001b[0m\u001b[0;34m(\u001b[0m\u001b[0mkwargs\u001b[0m\u001b[0;34m,\u001b[0m \u001b[0mmlines\u001b[0m\u001b[0;34m.\u001b[0m\u001b[0mLine2D\u001b[0m\u001b[0;34m)\u001b[0m\u001b[0;34m\u001b[0m\u001b[0;34m\u001b[0m\u001b[0m\n\u001b[0;32m-> 1632\u001b[0;31m         \u001b[0mlines\u001b[0m \u001b[0;34m=\u001b[0m \u001b[0;34m[\u001b[0m\u001b[0;34m*\u001b[0m\u001b[0mself\u001b[0m\u001b[0;34m.\u001b[0m\u001b[0m_get_lines\u001b[0m\u001b[0;34m(\u001b[0m\u001b[0;34m*\u001b[0m\u001b[0margs\u001b[0m\u001b[0;34m,\u001b[0m \u001b[0mdata\u001b[0m\u001b[0;34m=\u001b[0m\u001b[0mdata\u001b[0m\u001b[0;34m,\u001b[0m \u001b[0;34m**\u001b[0m\u001b[0mkwargs\u001b[0m\u001b[0;34m)\u001b[0m\u001b[0;34m]\u001b[0m\u001b[0;34m\u001b[0m\u001b[0;34m\u001b[0m\u001b[0m\n\u001b[0m\u001b[1;32m   1633\u001b[0m         \u001b[0;32mfor\u001b[0m \u001b[0mline\u001b[0m \u001b[0;32min\u001b[0m \u001b[0mlines\u001b[0m\u001b[0;34m:\u001b[0m\u001b[0;34m\u001b[0m\u001b[0;34m\u001b[0m\u001b[0m\n\u001b[1;32m   1634\u001b[0m             \u001b[0mself\u001b[0m\u001b[0;34m.\u001b[0m\u001b[0madd_line\u001b[0m\u001b[0;34m(\u001b[0m\u001b[0mline\u001b[0m\u001b[0;34m)\u001b[0m\u001b[0;34m\u001b[0m\u001b[0;34m\u001b[0m\u001b[0m\n",
      "\u001b[0;32m~/miniconda3/envs/rlberry/lib/python3.8/site-packages/matplotlib/axes/_base.py\u001b[0m in \u001b[0;36m__call__\u001b[0;34m(self, data, *args, **kwargs)\u001b[0m\n\u001b[1;32m    310\u001b[0m                 \u001b[0mthis\u001b[0m \u001b[0;34m+=\u001b[0m \u001b[0margs\u001b[0m\u001b[0;34m[\u001b[0m\u001b[0;36m0\u001b[0m\u001b[0;34m]\u001b[0m\u001b[0;34m,\u001b[0m\u001b[0;34m\u001b[0m\u001b[0;34m\u001b[0m\u001b[0m\n\u001b[1;32m    311\u001b[0m                 \u001b[0margs\u001b[0m \u001b[0;34m=\u001b[0m \u001b[0margs\u001b[0m\u001b[0;34m[\u001b[0m\u001b[0;36m1\u001b[0m\u001b[0;34m:\u001b[0m\u001b[0;34m]\u001b[0m\u001b[0;34m\u001b[0m\u001b[0;34m\u001b[0m\u001b[0m\n\u001b[0;32m--> 312\u001b[0;31m             \u001b[0;32myield\u001b[0m \u001b[0;32mfrom\u001b[0m \u001b[0mself\u001b[0m\u001b[0;34m.\u001b[0m\u001b[0m_plot_args\u001b[0m\u001b[0;34m(\u001b[0m\u001b[0mthis\u001b[0m\u001b[0;34m,\u001b[0m \u001b[0mkwargs\u001b[0m\u001b[0;34m)\u001b[0m\u001b[0;34m\u001b[0m\u001b[0;34m\u001b[0m\u001b[0m\n\u001b[0m\u001b[1;32m    313\u001b[0m \u001b[0;34m\u001b[0m\u001b[0m\n\u001b[1;32m    314\u001b[0m     \u001b[0;32mdef\u001b[0m \u001b[0mget_next_color\u001b[0m\u001b[0;34m(\u001b[0m\u001b[0mself\u001b[0m\u001b[0;34m)\u001b[0m\u001b[0;34m:\u001b[0m\u001b[0;34m\u001b[0m\u001b[0;34m\u001b[0m\u001b[0m\n",
      "\u001b[0;32m~/miniconda3/envs/rlberry/lib/python3.8/site-packages/matplotlib/axes/_base.py\u001b[0m in \u001b[0;36m_plot_args\u001b[0;34m(self, tup, kwargs, return_kwargs)\u001b[0m\n\u001b[1;32m    496\u001b[0m \u001b[0;34m\u001b[0m\u001b[0m\n\u001b[1;32m    497\u001b[0m         \u001b[0;32mif\u001b[0m \u001b[0mx\u001b[0m\u001b[0;34m.\u001b[0m\u001b[0mshape\u001b[0m\u001b[0;34m[\u001b[0m\u001b[0;36m0\u001b[0m\u001b[0;34m]\u001b[0m \u001b[0;34m!=\u001b[0m \u001b[0my\u001b[0m\u001b[0;34m.\u001b[0m\u001b[0mshape\u001b[0m\u001b[0;34m[\u001b[0m\u001b[0;36m0\u001b[0m\u001b[0;34m]\u001b[0m\u001b[0;34m:\u001b[0m\u001b[0;34m\u001b[0m\u001b[0;34m\u001b[0m\u001b[0m\n\u001b[0;32m--> 498\u001b[0;31m             raise ValueError(f\"x and y must have same first dimension, but \"\n\u001b[0m\u001b[1;32m    499\u001b[0m                              f\"have shapes {x.shape} and {y.shape}\")\n\u001b[1;32m    500\u001b[0m         \u001b[0;32mif\u001b[0m \u001b[0mx\u001b[0m\u001b[0;34m.\u001b[0m\u001b[0mndim\u001b[0m \u001b[0;34m>\u001b[0m \u001b[0;36m2\u001b[0m \u001b[0;32mor\u001b[0m \u001b[0my\u001b[0m\u001b[0;34m.\u001b[0m\u001b[0mndim\u001b[0m \u001b[0;34m>\u001b[0m \u001b[0;36m2\u001b[0m\u001b[0;34m:\u001b[0m\u001b[0;34m\u001b[0m\u001b[0;34m\u001b[0m\u001b[0m\n",
      "\u001b[0;31mValueError\u001b[0m: x and y must have same first dimension, but have shapes (10,) and (0,)"
     ]
    },
    {
     "data": {
      "image/png": "[encoded data removed]",
      "text/plain": [
       "<Figure size 1440x720 with 3 Axes>"
      ]
     },
     "metadata": {
      "needs_background": "light"
     },
     "output_type": "display_data"
    }
   ],
   "source": [
    "plot(agents, names, variable =\"max_diameter\")"
   ]
  },
  {
   "cell_type": "code",
   "execution_count": null,
   "id": "eeb0e8cf",
   "metadata": {},
   "outputs": [],
   "source": [
    "df = manager.read_writer_data(BPI_UCRL, tag= \"max_diameter\")"
   ]
  },
  {
   "cell_type": "code",
   "execution_count": null,
   "id": "3afcee12",
   "metadata": {},
   "outputs": [],
   "source": []
  },
  {
   "cell_type": "code",
   "execution_count": null,
   "id": "ba4951b9",
   "metadata": {},
   "outputs": [],
   "source": []
  }
 ],
 "metadata": {
  "kernelspec": {
   "display_name": "Python 3 (ipykernel)",
   "language": "python",
   "name": "python3"
  },
  "language_info": {
   "codemirror_mode": {
    "name": "ipython",
    "version": 3
   },
   "file_extension": ".py",
   "mimetype": "text/x-python",
   "name": "python",
   "nbconvert_exporter": "python",
   "pygments_lexer": "ipython3",
   "version": "3.8.12"
  },
  "varInspector": {
   "cols": {
    "lenName": 16,
    "lenType": 16,
    "lenVar": 40
   },
   "kernels_config": {
    "python": {
     "delete_cmd_postfix": "",
     "delete_cmd_prefix": "del ",
     "library": "var_list.py",
     "varRefreshCmd": "print(var_dic_list())"
    },
    "r": {
     "delete_cmd_postfix": ") ",
     "delete_cmd_prefix": "rm(",
     "library": "var_list.r",
     "varRefreshCmd": "cat(var_dic_list()) "
    }
   },
   "types_to_exclude": [
    "module",
    "function",
    "builtin_function_or_method",
    "instance",
    "_Feature"
   ],
   "window_display": false
  }
 },
 "nbformat": 4,
 "nbformat_minor": 5
}
